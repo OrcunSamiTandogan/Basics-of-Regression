{
 "cells": [
  {
   "cell_type": "markdown",
   "metadata": {},
   "source": [
    "`Outline`\n",
    "\n",
    "-Modules\n",
    "\n",
    "-Data Reading\n",
    "\n",
    "-Stats Modelling (Linear Regression)\n",
    "\n",
    "-Sklearn Modelling (Linear Regression)\n",
    "\n",
    "-Assumption Checking\n",
    "\n",
    "-References\n",
    "\n",
    "---\n"
   ]
  },
  {
   "cell_type": "markdown",
   "metadata": {},
   "source": [
    "### Modules"
   ]
  },
  {
   "cell_type": "code",
   "execution_count": 17,
   "metadata": {},
   "outputs": [],
   "source": [
    "import pandas as pd \n",
    "import numpy as np \n",
    "import scipy.stats as stats\n",
    "import seaborn as sns \n",
    "import matplotlib.pyplot as plt\n",
    " "
   ]
  },
  {
   "cell_type": "markdown",
   "metadata": {},
   "source": [
    "### Data Reading\n",
    "Data Source: https://www.kaggle.com/datasets/gunhee/koreahousedata/version/1 "
   ]
  },
  {
   "cell_type": "code",
   "execution_count": 18,
   "metadata": {},
   "outputs": [
    {
     "data": {
      "text/html": [
       "<div>\n",
       "<style scoped>\n",
       "    .dataframe tbody tr th:only-of-type {\n",
       "        vertical-align: middle;\n",
       "    }\n",
       "\n",
       "    .dataframe tbody tr th {\n",
       "        vertical-align: top;\n",
       "    }\n",
       "\n",
       "    .dataframe thead th {\n",
       "        text-align: right;\n",
       "    }\n",
       "</style>\n",
       "<table border=\"1\" class=\"dataframe\">\n",
       "  <thead>\n",
       "    <tr style=\"text-align: right;\">\n",
       "      <th></th>\n",
       "      <th>SalePrice</th>\n",
       "      <th>YearBuilt</th>\n",
       "      <th>YrSold</th>\n",
       "      <th>MonthSold</th>\n",
       "      <th>Size</th>\n",
       "      <th>Floor</th>\n",
       "      <th>HallwayType</th>\n",
       "      <th>HeatingType</th>\n",
       "      <th>AptManageType</th>\n",
       "      <th>N_Parkinglot(Ground)</th>\n",
       "      <th>...</th>\n",
       "      <th>N_FacilitiesNearBy(Mall)</th>\n",
       "      <th>N_FacilitiesNearBy(ETC)</th>\n",
       "      <th>N_FacilitiesNearBy(Park)</th>\n",
       "      <th>N_SchoolNearBy(Elementary)</th>\n",
       "      <th>N_SchoolNearBy(Middle)</th>\n",
       "      <th>N_SchoolNearBy(High)</th>\n",
       "      <th>N_SchoolNearBy(University)</th>\n",
       "      <th>N_FacilitiesInApt</th>\n",
       "      <th>N_FacilitiesNearBy(Total)</th>\n",
       "      <th>N_SchoolNearBy(Total)</th>\n",
       "    </tr>\n",
       "  </thead>\n",
       "  <tbody>\n",
       "    <tr>\n",
       "      <th>0</th>\n",
       "      <td>141592</td>\n",
       "      <td>2006</td>\n",
       "      <td>2007</td>\n",
       "      <td>8</td>\n",
       "      <td>814</td>\n",
       "      <td>3</td>\n",
       "      <td>terraced</td>\n",
       "      <td>individual_heating</td>\n",
       "      <td>management_in_trust</td>\n",
       "      <td>111.0</td>\n",
       "      <td>...</td>\n",
       "      <td>1.0</td>\n",
       "      <td>1.0</td>\n",
       "      <td>0.0</td>\n",
       "      <td>3.0</td>\n",
       "      <td>2.0</td>\n",
       "      <td>2.0</td>\n",
       "      <td>2.0</td>\n",
       "      <td>5</td>\n",
       "      <td>6.0</td>\n",
       "      <td>9.0</td>\n",
       "    </tr>\n",
       "    <tr>\n",
       "      <th>1</th>\n",
       "      <td>51327</td>\n",
       "      <td>1985</td>\n",
       "      <td>2007</td>\n",
       "      <td>8</td>\n",
       "      <td>587</td>\n",
       "      <td>8</td>\n",
       "      <td>corridor</td>\n",
       "      <td>individual_heating</td>\n",
       "      <td>self_management</td>\n",
       "      <td>80.0</td>\n",
       "      <td>...</td>\n",
       "      <td>1.0</td>\n",
       "      <td>2.0</td>\n",
       "      <td>1.0</td>\n",
       "      <td>2.0</td>\n",
       "      <td>1.0</td>\n",
       "      <td>1.0</td>\n",
       "      <td>0.0</td>\n",
       "      <td>3</td>\n",
       "      <td>12.0</td>\n",
       "      <td>4.0</td>\n",
       "    </tr>\n",
       "    <tr>\n",
       "      <th>2</th>\n",
       "      <td>48672</td>\n",
       "      <td>1985</td>\n",
       "      <td>2007</td>\n",
       "      <td>8</td>\n",
       "      <td>587</td>\n",
       "      <td>6</td>\n",
       "      <td>corridor</td>\n",
       "      <td>individual_heating</td>\n",
       "      <td>self_management</td>\n",
       "      <td>80.0</td>\n",
       "      <td>...</td>\n",
       "      <td>1.0</td>\n",
       "      <td>2.0</td>\n",
       "      <td>1.0</td>\n",
       "      <td>2.0</td>\n",
       "      <td>1.0</td>\n",
       "      <td>1.0</td>\n",
       "      <td>0.0</td>\n",
       "      <td>3</td>\n",
       "      <td>12.0</td>\n",
       "      <td>4.0</td>\n",
       "    </tr>\n",
       "    <tr>\n",
       "      <th>3</th>\n",
       "      <td>380530</td>\n",
       "      <td>2006</td>\n",
       "      <td>2007</td>\n",
       "      <td>8</td>\n",
       "      <td>2056</td>\n",
       "      <td>8</td>\n",
       "      <td>terraced</td>\n",
       "      <td>individual_heating</td>\n",
       "      <td>management_in_trust</td>\n",
       "      <td>249.0</td>\n",
       "      <td>...</td>\n",
       "      <td>1.0</td>\n",
       "      <td>0.0</td>\n",
       "      <td>0.0</td>\n",
       "      <td>2.0</td>\n",
       "      <td>2.0</td>\n",
       "      <td>1.0</td>\n",
       "      <td>2.0</td>\n",
       "      <td>5</td>\n",
       "      <td>3.0</td>\n",
       "      <td>7.0</td>\n",
       "    </tr>\n",
       "    <tr>\n",
       "      <th>4</th>\n",
       "      <td>221238</td>\n",
       "      <td>1993</td>\n",
       "      <td>2007</td>\n",
       "      <td>8</td>\n",
       "      <td>1761</td>\n",
       "      <td>3</td>\n",
       "      <td>mixed</td>\n",
       "      <td>individual_heating</td>\n",
       "      <td>management_in_trust</td>\n",
       "      <td>523.0</td>\n",
       "      <td>...</td>\n",
       "      <td>1.0</td>\n",
       "      <td>5.0</td>\n",
       "      <td>0.0</td>\n",
       "      <td>4.0</td>\n",
       "      <td>3.0</td>\n",
       "      <td>5.0</td>\n",
       "      <td>5.0</td>\n",
       "      <td>4</td>\n",
       "      <td>14.0</td>\n",
       "      <td>17.0</td>\n",
       "    </tr>\n",
       "  </tbody>\n",
       "</table>\n",
       "<p>5 rows × 30 columns</p>\n",
       "</div>"
      ],
      "text/plain": [
       "   SalePrice  YearBuilt  YrSold  MonthSold  Size  Floor HallwayType  \\\n",
       "0     141592       2006    2007          8   814      3    terraced   \n",
       "1      51327       1985    2007          8   587      8    corridor   \n",
       "2      48672       1985    2007          8   587      6    corridor   \n",
       "3     380530       2006    2007          8  2056      8    terraced   \n",
       "4     221238       1993    2007          8  1761      3       mixed   \n",
       "\n",
       "          HeatingType        AptManageType  N_Parkinglot(Ground)  ...  \\\n",
       "0  individual_heating  management_in_trust                 111.0  ...   \n",
       "1  individual_heating      self_management                  80.0  ...   \n",
       "2  individual_heating      self_management                  80.0  ...   \n",
       "3  individual_heating  management_in_trust                 249.0  ...   \n",
       "4  individual_heating  management_in_trust                 523.0  ...   \n",
       "\n",
       "   N_FacilitiesNearBy(Mall) N_FacilitiesNearBy(ETC) N_FacilitiesNearBy(Park)  \\\n",
       "0                       1.0                     1.0                      0.0   \n",
       "1                       1.0                     2.0                      1.0   \n",
       "2                       1.0                     2.0                      1.0   \n",
       "3                       1.0                     0.0                      0.0   \n",
       "4                       1.0                     5.0                      0.0   \n",
       "\n",
       "   N_SchoolNearBy(Elementary)  N_SchoolNearBy(Middle)  N_SchoolNearBy(High)  \\\n",
       "0                         3.0                     2.0                   2.0   \n",
       "1                         2.0                     1.0                   1.0   \n",
       "2                         2.0                     1.0                   1.0   \n",
       "3                         2.0                     2.0                   1.0   \n",
       "4                         4.0                     3.0                   5.0   \n",
       "\n",
       "  N_SchoolNearBy(University)  N_FacilitiesInApt  N_FacilitiesNearBy(Total)  \\\n",
       "0                        2.0                  5                        6.0   \n",
       "1                        0.0                  3                       12.0   \n",
       "2                        0.0                  3                       12.0   \n",
       "3                        2.0                  5                        3.0   \n",
       "4                        5.0                  4                       14.0   \n",
       "\n",
       "   N_SchoolNearBy(Total)  \n",
       "0                    9.0  \n",
       "1                    4.0  \n",
       "2                    4.0  \n",
       "3                    7.0  \n",
       "4                   17.0  \n",
       "\n",
       "[5 rows x 30 columns]"
      ]
     },
     "execution_count": 18,
     "metadata": {},
     "output_type": "execute_result"
    }
   ],
   "source": [
    "d = pd.read_csv(r'C:\\Users\\Asus\\Desktop\\Courses\\Codes\\Practice\\Daegu_Real_Estate_data.csv') \n",
    "t = list(d.columns)\n",
    "t[4] = 'Size' \n",
    "d.columns = t \n",
    "d.head() \n"
   ]
  },
  {
   "cell_type": "markdown",
   "metadata": {},
   "source": [
    "# Stats Model"
   ]
  },
  {
   "cell_type": "code",
   "execution_count": 19,
   "metadata": {},
   "outputs": [],
   "source": [
    "import statsmodels.formula.api as smf "
   ]
  },
  {
   "cell_type": "code",
   "execution_count": 20,
   "metadata": {},
   "outputs": [
    {
     "data": {
      "text/plain": [
       "Intercept    35905.345584\n",
       "Size           193.929202\n",
       "dtype: float64"
      ]
     },
     "execution_count": 20,
     "metadata": {},
     "output_type": "execute_result"
    }
   ],
   "source": [
    "\n",
    "# Initialise and fit linear regression model using `statsstats_models`\n",
    "stats_model = smf.ols('SalePrice ~ Size', data=d)\n",
    "stats_model = stats_model.fit() \n",
    "stats_model.params "
   ]
  },
  {
   "cell_type": "code",
   "execution_count": 21,
   "metadata": {},
   "outputs": [
    {
     "data": {
      "image/png": "[encoded data removed]",
      "text/plain": [
       "<Figure size 432x216 with 1 Axes>"
      ]
     },
     "metadata": {
      "needs_background": "light"
     },
     "output_type": "display_data"
    }
   ],
   "source": [
    "sales_pred_stats = stats_model.predict()\n",
    "y = d['SalePrice'] \n",
    "x = d['Size']\n",
    "\n",
    "# Plot regression against actual data\n",
    "plt.figure(figsize=(6, 3))\n",
    "plt.plot(x, y, 'o')           # scatter plot showing actual data\n",
    "plt.plot(x, sales_pred_stats, 'r', linewidth=2)   # regression line\n",
    "plt.xlabel('Size')\n",
    "plt.ylabel('SalePrice')\n",
    "plt.title('Price vs Size')\n",
    "\n",
    "plt.show()"
   ]
  },
  {
   "cell_type": "markdown",
   "metadata": {},
   "source": [
    "# Sklearn"
   ]
  },
  {
   "cell_type": "code",
   "execution_count": 22,
   "metadata": {},
   "outputs": [],
   "source": [
    "from sklearn.linear_model import LinearRegression "
   ]
  },
  {
   "cell_type": "code",
   "execution_count": 23,
   "metadata": {},
   "outputs": [],
   "source": [
    "# Build linear regression model using TV and Radio as predictors\n",
    "# Split data into predictors X and output Y\n",
    "predictors = ['Size']\n",
    "X = d[predictors]\n",
    "y = d['SalePrice'] \n",
    "\n",
    "# Initialise and fit model\n",
    "lm = LinearRegression()\n",
    "sklearn_model = lm.fit(X, y) "
   ]
  },
  {
   "cell_type": "code",
   "execution_count": 24,
   "metadata": {},
   "outputs": [
    {
     "name": "stdout",
     "output_type": "stream",
     "text": [
      "alpha = 35905.345584455325\n",
      "betas = [193.92920171]\n"
     ]
    }
   ],
   "source": [
    "print(f'alpha = {sklearn_model.intercept_}')\n",
    "print(f'betas = {sklearn_model.coef_}')"
   ]
  },
  {
   "cell_type": "code",
   "execution_count": 25,
   "metadata": {},
   "outputs": [
    {
     "data": {
      "text/plain": [
       "array([193763.71577673, 149741.78698847, 149741.78698847, ...,\n",
       "       204235.8926691 , 293249.39625418, 204235.8926691 ])"
      ]
     },
     "execution_count": 25,
     "metadata": {},
     "output_type": "execute_result"
    }
   ],
   "source": [
    "sklearn_model.predict(X) "
   ]
  },
  {
   "cell_type": "code",
   "execution_count": 26,
   "metadata": {},
   "outputs": [
    {
     "data": {
      "image/png": "[encoded data removed]",
      "text/plain": [
       "<Figure size 432x216 with 1 Axes>"
      ]
     },
     "metadata": {
      "needs_background": "light"
     },
     "output_type": "display_data"
    }
   ],
   "source": [
    "predictors = ['Size']\n",
    "X = d[predictors] \n",
    "sales_pred_sklearn = sklearn_model.predict(X)\n",
    "\n",
    "y = d['SalePrice'] \n",
    "x = d['Size']\n",
    "\n",
    "# Plot regression against actual data\n",
    "plt.figure(figsize=(6, 3))\n",
    "plt.plot(x, y, 'o')           # scatter plot showing actual data\n",
    "plt.plot(x, sales_pred_sklearn, 'r', linewidth=2)   # regression line\n",
    "plt.xlabel('Size')\n",
    "plt.ylabel('SalePrice')\n",
    "plt.title('Price vs Size')\n",
    "\n",
    "plt.show() "
   ]
  },
  {
   "cell_type": "markdown",
   "metadata": {},
   "source": [
    "# Comparision"
   ]
  },
  {
   "cell_type": "code",
   "execution_count": 27,
   "metadata": {},
   "outputs": [
    {
     "data": {
      "text/plain": [
       "0.0"
      ]
     },
     "execution_count": 27,
     "metadata": {},
     "output_type": "execute_result"
    }
   ],
   "source": [
    "w_stat, w_p = stats.wilcoxon(sales_pred_stats, sales_pred_sklearn) \n",
    "w_p "
   ]
  },
  {
   "cell_type": "markdown",
   "metadata": {},
   "source": [
    "# Assumption Check\n",
    "* Assumption #1: There exists a linear relationship between the predictor variables and the response variable.\n",
    "* Assumption #2: Independence of residuals.\n",
    "* Assumption #3: Homoscedasticity of residuals.\n",
    "* Assumption #4: Normality of residuals.\n",
    "* Assumption #5: Verify that multicollinearity doesn’t exist among predictor variables.\n"
   ]
  },
  {
   "cell_type": "markdown",
   "metadata": {},
   "source": [
    "### Assumtion I"
   ]
  },
  {
   "cell_type": "code",
   "execution_count": 28,
   "metadata": {},
   "outputs": [
    {
     "data": {
      "image/png": "[encoded data removed]",
      "text/plain": [
       "<Figure size 432x216 with 1 Axes>"
      ]
     },
     "metadata": {
      "needs_background": "light"
     },
     "output_type": "display_data"
    }
   ],
   "source": [
    "sales_pred_stats = stats_model.predict()\n",
    "y = d['SalePrice'] \n",
    "x = d['Size']\n",
    "\n",
    "# Plot regression against actual data\n",
    "plt.figure(figsize=(6, 3))\n",
    "plt.plot(x, y, 'o')           # scatter plot showing actual data\n",
    "plt.plot(x, sales_pred_stats, 'r', linewidth=2)   # regression line\n",
    "plt.xlabel('Size')\n",
    "plt.ylabel('SalePrice')\n",
    "plt.title('Price vs Size')\n",
    "\n",
    "plt.show()"
   ]
  },
  {
   "cell_type": "code",
   "execution_count": 29,
   "metadata": {},
   "outputs": [
    {
     "data": {
      "image/png": "[encoded data removed]",
      "text/plain": [
       "<Figure size 432x216 with 1 Axes>"
      ]
     },
     "metadata": {
      "needs_background": "light"
     },
     "output_type": "display_data"
    }
   ],
   "source": [
    "predictors = ['Size']\n",
    "X = d[predictors] \n",
    "sales_pred_sklearn = sklearn_model.predict(X)\n",
    "\n",
    "y = d['SalePrice'] \n",
    "x = d['Size']\n",
    "\n",
    "# Plot regression against actual data\n",
    "plt.figure(figsize=(6, 3))\n",
    "plt.plot(x, y, 'o')           # scatter plot showing actual data\n",
    "plt.plot(x, sales_pred_sklearn, 'r', linewidth=2)   # regression line\n",
    "plt.xlabel('Size')\n",
    "plt.ylabel('SalePrice')\n",
    "plt.title('Price vs Size')\n",
    "\n",
    "plt.show() "
   ]
  },
  {
   "cell_type": "markdown",
   "metadata": {},
   "source": [
    "### Assumption II"
   ]
  },
  {
   "cell_type": "code",
   "execution_count": 30,
   "metadata": {},
   "outputs": [
    {
     "data": {
      "text/plain": [
       "(0.8173787638225775, 0.8173787638225781)"
      ]
     },
     "execution_count": 30,
     "metadata": {},
     "output_type": "execute_result"
    }
   ],
   "source": [
    "from statsmodels.stats.stattools import durbin_watson\n",
    "\n",
    "# Stats Model Residuals \n",
    "stats_model.resid\n",
    "\n",
    "# Sklearn Residuals \n",
    "X = d[predictors]\n",
    "y = d['SalePrice']  \n",
    "sklearn_model.fit(X, y)\n",
    "prediction = sklearn_model.predict(X)\n",
    "residuals = (y - prediction) \n",
    "\n",
    "#perform Durbin-Watson test\n",
    "durbin_watson(stats_model.resid ), durbin_watson(residuals)"
   ]
  },
  {
   "cell_type": "markdown",
   "metadata": {},
   "source": [
    "`!` `If there is a problem:` \n",
    "1. For positive serial correlation, consider adding lags of the dependent and/or independent variable to the model. \n",
    "\n",
    "2. For negative serial correlation, check to make sure that none of your variables are overdifferenced. \n",
    "\n",
    "3. For seasonal correlation, consider adding seasonal dummy variables to the model."
   ]
  },
  {
   "cell_type": "markdown",
   "metadata": {},
   "source": [
    "### Assumption III \n",
    "* `Breusch-Pagan` \n",
    "\n",
    " If p-value is not less than 0.05, we fail to reject the null hypothesis. We do not have sufficient evidence to say that heteroscedasticity is present in the regression model."
   ]
  },
  {
   "cell_type": "code",
   "execution_count": 31,
   "metadata": {},
   "outputs": [
    {
     "data": {
      "text/plain": [
       "[('Lagrange multiplier statistic', 676.8926144297108),\n",
       " ('p-value', 3.1672130782771033e-149),\n",
       " ('f-value', 764.5068103906295),\n",
       " ('f p-value', 2.5177783670980246e-158)]"
      ]
     },
     "execution_count": 31,
     "metadata": {},
     "output_type": "execute_result"
    }
   ],
   "source": [
    "from statsmodels.compat import lzip \n",
    "import statsmodels.stats.api as sms \n",
    "\n",
    "# Performing Bresuch-Pagan test \n",
    "def perform_pagan(Model= stats_model):  \n",
    "    names = ['Lagrange multiplier statistic', 'p-value', \n",
    "            'f-value', 'f p-value'] \n",
    "    test = sms.het_breuschpagan( Model.resid, Model.model.exog ) \n",
    "    return( lzip(names, test) ) \n",
    "\n",
    "perform_pagan(Model = stats_model) \n"
   ]
  },
  {
   "cell_type": "markdown",
   "metadata": {},
   "source": [
    "How To Deal?\n",
    "1. Transform the dependent variable. One way to fix heteroscedasticity is to transform the dependent variable in some way. One common transformation is to simply take the log of the dependent variable.\n",
    "\n",
    "2. Redefine the dependent variable. Another way to fix heteroscedasticity is to redefine the dependent variable. One common way to do so is to use a rate for the dependent variable, rather than the raw value.\n",
    "\n",
    "3. Use weighted regression. Another way to fix heteroscedasticity is to use weighted regression. This type of regression assigns a weight to each data point based on the variance of its fitted value. When the proper weights are used, this can eliminate the problem of heteroscedasticity.\n",
    "\n",
    "Source: https://www.statology.org/breusch-pagan-test-python/ "
   ]
  },
  {
   "cell_type": "markdown",
   "metadata": {},
   "source": [
    "### Assumption IV \n",
    "! Use: The Jarque-Bera Test is typically used for large datasets (n > 2000) in which other normality tests (like the Shapiro-Wilk test) are unreliable.\n",
    "Source: https://www.statology.org/jarque-bera-test-python/ "
   ]
  },
  {
   "cell_type": "code",
   "execution_count": 57,
   "metadata": {},
   "outputs": [
    {
     "data": {
      "text/plain": [
       "(Jarque_beraResult(statistic=985.9442403655127, pvalue=0.0),\n",
       " Jarque_beraResult(statistic=242.19338847760963, pvalue=0.0))"
      ]
     },
     "execution_count": 57,
     "metadata": {},
     "output_type": "execute_result"
    }
   ],
   "source": [
    "stats.jarque_bera(d['Size'])  , stats.jarque_bera(d['SalePrice']) "
   ]
  },
  {
   "cell_type": "markdown",
   "metadata": {},
   "source": [
    "### Assumption V"
   ]
  },
  {
   "cell_type": "code",
   "execution_count": 54,
   "metadata": {},
   "outputs": [],
   "source": [
    "from patsy import dmatrices\n",
    "from statsmodels.stats.outliers_influence import variance_inflation_factor\n"
   ]
  },
  {
   "cell_type": "code",
   "execution_count": 56,
   "metadata": {},
   "outputs": [
    {
     "data": {
      "text/html": [
       "<div>\n",
       "<style scoped>\n",
       "    .dataframe tbody tr th:only-of-type {\n",
       "        vertical-align: middle;\n",
       "    }\n",
       "\n",
       "    .dataframe tbody tr th {\n",
       "        vertical-align: top;\n",
       "    }\n",
       "\n",
       "    .dataframe thead th {\n",
       "        text-align: right;\n",
       "    }\n",
       "</style>\n",
       "<table border=\"1\" class=\"dataframe\">\n",
       "  <thead>\n",
       "    <tr style=\"text-align: right;\">\n",
       "      <th></th>\n",
       "      <th>VIF</th>\n",
       "      <th>variable</th>\n",
       "    </tr>\n",
       "  </thead>\n",
       "  <tbody>\n",
       "    <tr>\n",
       "      <th>0</th>\n",
       "      <td>7.243337</td>\n",
       "      <td>Intercept</td>\n",
       "    </tr>\n",
       "    <tr>\n",
       "      <th>1</th>\n",
       "      <td>1.000000</td>\n",
       "      <td>Size</td>\n",
       "    </tr>\n",
       "  </tbody>\n",
       "</table>\n",
       "</div>"
      ],
      "text/plain": [
       "        VIF   variable\n",
       "0  7.243337  Intercept\n",
       "1  1.000000       Size"
      ]
     },
     "execution_count": 56,
     "metadata": {},
     "output_type": "execute_result"
    }
   ],
   "source": [
    "\n",
    "#find design matrix for linear regression model using 'rating' as response variable \n",
    "y, X = dmatrices('SalePrice ~ Size', data=d, return_type='dataframe')\n",
    "\n",
    "#calculate VIF for each explanatory variable\n",
    "vif = pd.DataFrame()\n",
    "vif['VIF'] = [variance_inflation_factor(X.values, i) for i in range(X.shape[1])]\n",
    "vif['variable'] = X.columns\n",
    "\n",
    "#view VIF for each explanatory variable \n",
    "vif"
   ]
  },
  {
   "cell_type": "markdown",
   "metadata": {},
   "source": [
    "* A value of 1 indicates there is no correlation between a given explanatory variable and any other explanatory variables in the model.\n",
    "\n",
    "* A value between 1 and 5 indicates moderate correlation between a given explanatory variable and other explanatory variables in the model, but this is often not severe enough to require attention.\n",
    "\n",
    "* A value greater than 5 indicates potentially severe correlation between a given explanatory variable and other explanatory variables in the model. In this case, the coefficient estimates and p-values in the regression output are likely unreliable."
   ]
  },
  {
   "cell_type": "markdown",
   "metadata": {},
   "source": [
    "# Rerefences:\n",
    "\n",
    "Source: https://www.statology.org/linear-regression-python/ "
   ]
  }
 ],
 "metadata": {
  "interpreter": {
   "hash": "107d7b120a5b68773a87d4067e673630b35702e55ebab3138143d08b1c4d7cbc"
  },
  "kernelspec": {
   "display_name": "Python 3.10.2 64-bit",
   "language": "python",
   "name": "python3"
  },
  "language_info": {
   "codemirror_mode": {
    "name": "ipython",
    "version": 3
   },
   "file_extension": ".py",
   "mimetype": "text/x-python",
   "name": "python",
   "nbconvert_exporter": "python",
   "pygments_lexer": "ipython3",
   "version": "3.10.2"
  },
  "orig_nbformat": 4
 },
 "nbformat": 4,
 "nbformat_minor": 2
}
